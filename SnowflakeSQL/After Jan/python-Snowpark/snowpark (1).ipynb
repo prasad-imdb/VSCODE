{
 "cells": [
  {
   "cell_type": "code",
   "execution_count": 1,
   "id": "065a0137",
   "metadata": {},
   "outputs": [
    {
     "name": "stdout",
     "output_type": "stream",
     "text": [
      "3.8.16 (default, Jan 17 2023, 22:25:28) [MSC v.1916 64 bit (AMD64)]\n"
     ]
    }
   ],
   "source": [
    "import sys\n",
    "print(sys.version)"
   ]
  },
  {
   "cell_type": "code",
   "execution_count": 2,
   "id": "040ea4f1",
   "metadata": {},
   "outputs": [
    {
     "name": "stdout",
     "output_type": "stream",
     "text": [
      "Collecting package metadata (current_repodata.json): ...working... done\n",
      "Solving environment: ...working... done\n",
      "\n",
      "# All requested packages already installed.\n",
      "\n",
      "Retrieving notices: ...working... done\n",
      "\n",
      "Note: you may need to restart the kernel to use updated packages.\n"
     ]
    },
    {
     "name": "stderr",
     "output_type": "stream",
     "text": [
      "\n",
      "\n",
      "==> WARNING: A newer version of conda exists. <==\n",
      "  current version: 22.9.0\n",
      "  latest version: 23.1.0\n",
      "\n",
      "Please update conda by running\n",
      "\n",
      "    $ conda update -n base -c defaults conda\n",
      "\n",
      "\n"
     ]
    }
   ],
   "source": [
    "conda install snowflake-snowpark-python"
   ]
  },
  {
   "cell_type": "code",
   "execution_count": 3,
   "id": "e394c30e",
   "metadata": {},
   "outputs": [],
   "source": [
    "import numpy as np"
   ]
  },
  {
   "cell_type": "code",
   "execution_count": 4,
   "id": "7682d020",
   "metadata": {},
   "outputs": [
    {
     "name": "stdout",
     "output_type": "stream",
     "text": [
      "Collecting package metadata (current_repodata.json): ...working... done\n",
      "Solving environment: ...working... done\n",
      "\n",
      "# All requested packages already installed.\n",
      "\n",
      "Retrieving notices: ...working... done\n",
      "\n",
      "Note: you may need to restart the kernel to use updated packages.\n"
     ]
    },
    {
     "name": "stderr",
     "output_type": "stream",
     "text": [
      "\n",
      "\n",
      "==> WARNING: A newer version of conda exists. <==\n",
      "  current version: 22.9.0\n",
      "  latest version: 23.1.0\n",
      "\n",
      "Please update conda by running\n",
      "\n",
      "    $ conda update -n base -c defaults conda\n",
      "\n",
      "\n"
     ]
    }
   ],
   "source": [
    "conda install pandas"
   ]
  },
  {
   "cell_type": "code",
   "execution_count": 5,
   "id": "7f08eb75",
   "metadata": {},
   "outputs": [],
   "source": [
    "import pandas as pd"
   ]
  },
  {
   "cell_type": "code",
   "execution_count": 6,
   "id": "a2fe9721",
   "metadata": {},
   "outputs": [],
   "source": [
    "from snowflake.snowpark import Session"
   ]
  },
  {
   "cell_type": "code",
   "execution_count": 7,
   "id": "0ddb3d30",
   "metadata": {},
   "outputs": [],
   "source": [
    "connection_parameters = {\n",
    "...    \"account\": \"xercwzx-yr09453\",\n",
    "...    \"user\": \"PRASAD\",\n",
    "...    \"password\": \"Munna26i@\",\n",
    "...    \"role\": \"ACCOUNTADMIN\",  # optional\n",
    "...    \"warehouse\": \"COMPUTE_WH\",  # optional\n",
    "...    \"database\": \"PRASAD\",  # optional\n",
    "...    \"schema\": \"SCHEMA\",  # optional\n",
    "...  }  "
   ]
  },
  {
   "cell_type": "code",
   "execution_count": 8,
   "id": "cd1515cc",
   "metadata": {},
   "outputs": [],
   "source": [
    "new_session = Session.builder.configs(connection_parameters).create()  "
   ]
  },
  {
   "cell_type": "code",
   "execution_count": 9,
   "id": "de41286f",
   "metadata": {},
   "outputs": [],
   "source": [
    "import snowflake.connector"
   ]
  },
  {
   "cell_type": "code",
   "execution_count": 10,
   "id": "1d8717c0",
   "metadata": {},
   "outputs": [],
   "source": [
    "conn = snowflake.connector.connect(\n",
    "    user='PRASAD',\n",
    "    password='Munna26i@',\n",
    "    account='xercwzx-yr09453',\n",
    "    warehouse='COMPUTE_WH',\n",
    "    database='PRASAD',\n",
    "    schema='SCHEMA'\n",
    ")"
   ]
  },
  {
   "cell_type": "code",
   "execution_count": 11,
   "id": "d7607f9b",
   "metadata": {},
   "outputs": [
    {
     "name": "stderr",
     "output_type": "stream",
     "text": [
      "C:\\Users\\Venky\\anaconda3\\envs\\python38\\lib\\site-packages\\pandas\\io\\sql.py:762: UserWarning: pandas only support SQLAlchemy connectable(engine/connection) ordatabase string URI or sqlite3 DBAPI2 connectionother DBAPI2 objects are not tested, please consider using SQLAlchemy\n",
      "  warnings.warn(\n"
     ]
    }
   ],
   "source": [
    "query = 'SELECT * FROM \"PRASAD\".\"SCHEMA\".\"EMPLOYEES\";'\n",
    "df = pd.read_sql(query, conn)"
   ]
  },
  {
   "cell_type": "code",
   "execution_count": 12,
   "id": "c4419369",
   "metadata": {},
   "outputs": [
    {
     "data": {
      "text/html": [
       "<div>\n",
       "<style scoped>\n",
       "    .dataframe tbody tr th:only-of-type {\n",
       "        vertical-align: middle;\n",
       "    }\n",
       "\n",
       "    .dataframe tbody tr th {\n",
       "        vertical-align: top;\n",
       "    }\n",
       "\n",
       "    .dataframe thead th {\n",
       "        text-align: right;\n",
       "    }\n",
       "</style>\n",
       "<table border=\"1\" class=\"dataframe\">\n",
       "  <thead>\n",
       "    <tr style=\"text-align: right;\">\n",
       "      <th></th>\n",
       "      <th>EMPNO</th>\n",
       "      <th>ENAME</th>\n",
       "      <th>JOB</th>\n",
       "      <th>MGR</th>\n",
       "      <th>HIREDATE</th>\n",
       "      <th>SALARY</th>\n",
       "      <th>COMM</th>\n",
       "      <th>DEPTNO</th>\n",
       "    </tr>\n",
       "  </thead>\n",
       "  <tbody>\n",
       "    <tr>\n",
       "      <th>0</th>\n",
       "      <td>7773</td>\n",
       "      <td>PRASAD</td>\n",
       "      <td>DATA ENGG</td>\n",
       "      <td>2000.0</td>\n",
       "      <td>2016-11-04</td>\n",
       "      <td>2800.0</td>\n",
       "      <td>100.0</td>\n",
       "      <td>2501</td>\n",
       "    </tr>\n",
       "    <tr>\n",
       "      <th>1</th>\n",
       "      <td>7723</td>\n",
       "      <td>VIJAY</td>\n",
       "      <td>DATA ENGG</td>\n",
       "      <td>2000.0</td>\n",
       "      <td>2017-11-05</td>\n",
       "      <td>2000.0</td>\n",
       "      <td>70.0</td>\n",
       "      <td>2501</td>\n",
       "    </tr>\n",
       "    <tr>\n",
       "      <th>2</th>\n",
       "      <td>7001</td>\n",
       "      <td>RAJEEVI</td>\n",
       "      <td>ANALYST</td>\n",
       "      <td>2000.0</td>\n",
       "      <td>2016-11-06</td>\n",
       "      <td>2000.0</td>\n",
       "      <td>100.0</td>\n",
       "      <td>2501</td>\n",
       "    </tr>\n",
       "    <tr>\n",
       "      <th>3</th>\n",
       "      <td>2000</td>\n",
       "      <td>BALU</td>\n",
       "      <td>PRINCIPAL DATA ENGG</td>\n",
       "      <td>4000.0</td>\n",
       "      <td>2016-11-07</td>\n",
       "      <td>4000.0</td>\n",
       "      <td>200.0</td>\n",
       "      <td>2501</td>\n",
       "    </tr>\n",
       "    <tr>\n",
       "      <th>4</th>\n",
       "      <td>4000</td>\n",
       "      <td>RAJEEV</td>\n",
       "      <td>MANAGER</td>\n",
       "      <td>1000.0</td>\n",
       "      <td>2016-11-08</td>\n",
       "      <td>5000.0</td>\n",
       "      <td>76.0</td>\n",
       "      <td>2500</td>\n",
       "    </tr>\n",
       "  </tbody>\n",
       "</table>\n",
       "</div>"
      ],
      "text/plain": [
       "   EMPNO    ENAME                  JOB     MGR    HIREDATE  SALARY   COMM  \\\n",
       "0   7773   PRASAD            DATA ENGG  2000.0  2016-11-04  2800.0  100.0   \n",
       "1   7723    VIJAY            DATA ENGG  2000.0  2017-11-05  2000.0   70.0   \n",
       "2   7001  RAJEEVI              ANALYST  2000.0  2016-11-06  2000.0  100.0   \n",
       "3   2000     BALU  PRINCIPAL DATA ENGG  4000.0  2016-11-07  4000.0  200.0   \n",
       "4   4000   RAJEEV              MANAGER  1000.0  2016-11-08  5000.0   76.0   \n",
       "\n",
       "   DEPTNO  \n",
       "0    2501  \n",
       "1    2501  \n",
       "2    2501  \n",
       "3    2501  \n",
       "4    2500  "
      ]
     },
     "execution_count": 12,
     "metadata": {},
     "output_type": "execute_result"
    }
   ],
   "source": [
    "df.head()"
   ]
  },
  {
   "cell_type": "code",
   "execution_count": 15,
   "id": "f99d282a",
   "metadata": {},
   "outputs": [
    {
     "name": "stdout",
     "output_type": "stream",
     "text": [
      "\n",
      "Note: you may need to restart the kernel to use updated packages.\n"
     ]
    },
    {
     "name": "stderr",
     "output_type": "stream",
     "text": [
      "\n",
      "CondaValueError: invalid package specification: #download\n",
      "\n"
     ]
    }
   ],
   "source": [
    "conda install openpyxl #download this module to save dataframes to excel"
   ]
  },
  {
   "cell_type": "code",
   "execution_count": 18,
   "id": "9f187c49",
   "metadata": {},
   "outputs": [
    {
     "data": {
      "text/html": [
       "<div>\n",
       "<style scoped>\n",
       "    .dataframe tbody tr th:only-of-type {\n",
       "        vertical-align: middle;\n",
       "    }\n",
       "\n",
       "    .dataframe tbody tr th {\n",
       "        vertical-align: top;\n",
       "    }\n",
       "\n",
       "    .dataframe thead th {\n",
       "        text-align: right;\n",
       "    }\n",
       "</style>\n",
       "<table border=\"1\" class=\"dataframe\">\n",
       "  <thead>\n",
       "    <tr style=\"text-align: right;\">\n",
       "      <th></th>\n",
       "      <th>EMPNO</th>\n",
       "      <th>ENAME</th>\n",
       "      <th>JOB</th>\n",
       "      <th>MGR</th>\n",
       "      <th>HIREDATE</th>\n",
       "      <th>SALARY</th>\n",
       "      <th>COMM</th>\n",
       "      <th>DEPTNO</th>\n",
       "    </tr>\n",
       "  </thead>\n",
       "  <tbody>\n",
       "    <tr>\n",
       "      <th>0</th>\n",
       "      <td>7773</td>\n",
       "      <td>PRASAD</td>\n",
       "      <td>DATA ENGG</td>\n",
       "      <td>2000.0</td>\n",
       "      <td>2016-11-04</td>\n",
       "      <td>2800.0</td>\n",
       "      <td>100.0</td>\n",
       "      <td>2501</td>\n",
       "    </tr>\n",
       "    <tr>\n",
       "      <th>1</th>\n",
       "      <td>7723</td>\n",
       "      <td>VIJAY</td>\n",
       "      <td>DATA ENGG</td>\n",
       "      <td>2000.0</td>\n",
       "      <td>2017-11-05</td>\n",
       "      <td>2000.0</td>\n",
       "      <td>70.0</td>\n",
       "      <td>2501</td>\n",
       "    </tr>\n",
       "    <tr>\n",
       "      <th>2</th>\n",
       "      <td>7001</td>\n",
       "      <td>RAJEEVI</td>\n",
       "      <td>ANALYST</td>\n",
       "      <td>2000.0</td>\n",
       "      <td>2016-11-06</td>\n",
       "      <td>2000.0</td>\n",
       "      <td>100.0</td>\n",
       "      <td>2501</td>\n",
       "    </tr>\n",
       "    <tr>\n",
       "      <th>3</th>\n",
       "      <td>2000</td>\n",
       "      <td>BALU</td>\n",
       "      <td>PRINCIPAL DATA ENGG</td>\n",
       "      <td>4000.0</td>\n",
       "      <td>2016-11-07</td>\n",
       "      <td>4000.0</td>\n",
       "      <td>200.0</td>\n",
       "      <td>2501</td>\n",
       "    </tr>\n",
       "    <tr>\n",
       "      <th>4</th>\n",
       "      <td>4000</td>\n",
       "      <td>RAJEEV</td>\n",
       "      <td>MANAGER</td>\n",
       "      <td>1000.0</td>\n",
       "      <td>2016-11-08</td>\n",
       "      <td>5000.0</td>\n",
       "      <td>76.0</td>\n",
       "      <td>2500</td>\n",
       "    </tr>\n",
       "    <tr>\n",
       "      <th>5</th>\n",
       "      <td>1000</td>\n",
       "      <td>VIJAY KOTU</td>\n",
       "      <td>SR MANAGER</td>\n",
       "      <td>200.0</td>\n",
       "      <td>2016-11-09</td>\n",
       "      <td>6000.0</td>\n",
       "      <td>200.0</td>\n",
       "      <td>2500</td>\n",
       "    </tr>\n",
       "    <tr>\n",
       "      <th>6</th>\n",
       "      <td>7012</td>\n",
       "      <td>PADMA</td>\n",
       "      <td>DEVELOPER</td>\n",
       "      <td>3000.0</td>\n",
       "      <td>2016-11-10</td>\n",
       "      <td>2600.0</td>\n",
       "      <td>50.0</td>\n",
       "      <td>2502</td>\n",
       "    </tr>\n",
       "    <tr>\n",
       "      <th>7</th>\n",
       "      <td>8012</td>\n",
       "      <td>HASIN</td>\n",
       "      <td>DEVELOPER</td>\n",
       "      <td>3000.0</td>\n",
       "      <td>2016-11-11</td>\n",
       "      <td>2000.0</td>\n",
       "      <td>80.0</td>\n",
       "      <td>2502</td>\n",
       "    </tr>\n",
       "    <tr>\n",
       "      <th>8</th>\n",
       "      <td>5345</td>\n",
       "      <td>GIRISH</td>\n",
       "      <td>DEVELOPER</td>\n",
       "      <td>3000.0</td>\n",
       "      <td>2016-11-12</td>\n",
       "      <td>2000.0</td>\n",
       "      <td>56.0</td>\n",
       "      <td>2502</td>\n",
       "    </tr>\n",
       "    <tr>\n",
       "      <th>9</th>\n",
       "      <td>3000</td>\n",
       "      <td>VIVEK</td>\n",
       "      <td>MANAGER</td>\n",
       "      <td>4000.0</td>\n",
       "      <td>2016-11-13</td>\n",
       "      <td>3000.0</td>\n",
       "      <td>200.0</td>\n",
       "      <td>2502</td>\n",
       "    </tr>\n",
       "    <tr>\n",
       "      <th>10</th>\n",
       "      <td>6508</td>\n",
       "      <td>ARCHIT</td>\n",
       "      <td>DEVELOPER</td>\n",
       "      <td>3000.0</td>\n",
       "      <td>2016-11-14</td>\n",
       "      <td>2300.0</td>\n",
       "      <td>80.0</td>\n",
       "      <td>2502</td>\n",
       "    </tr>\n",
       "    <tr>\n",
       "      <th>11</th>\n",
       "      <td>7023</td>\n",
       "      <td>JOANE</td>\n",
       "      <td>ANALYST</td>\n",
       "      <td>2000.0</td>\n",
       "      <td>2016-11-15</td>\n",
       "      <td>2100.0</td>\n",
       "      <td>68.0</td>\n",
       "      <td>2501</td>\n",
       "    </tr>\n",
       "    <tr>\n",
       "      <th>12</th>\n",
       "      <td>8012</td>\n",
       "      <td>SURI</td>\n",
       "      <td>DESIGNER</td>\n",
       "      <td>4000.0</td>\n",
       "      <td>2016-11-16</td>\n",
       "      <td>2100.0</td>\n",
       "      <td>80.0</td>\n",
       "      <td>2502</td>\n",
       "    </tr>\n",
       "    <tr>\n",
       "      <th>13</th>\n",
       "      <td>200</td>\n",
       "      <td>CHRIS</td>\n",
       "      <td>CFO</td>\n",
       "      <td>NaN</td>\n",
       "      <td>None</td>\n",
       "      <td>8000.0</td>\n",
       "      <td>1000.0</td>\n",
       "      <td>2500</td>\n",
       "    </tr>\n",
       "  </tbody>\n",
       "</table>\n",
       "</div>"
      ],
      "text/plain": [
       "    EMPNO       ENAME                  JOB     MGR    HIREDATE  SALARY  \\\n",
       "0    7773      PRASAD            DATA ENGG  2000.0  2016-11-04  2800.0   \n",
       "1    7723       VIJAY            DATA ENGG  2000.0  2017-11-05  2000.0   \n",
       "2    7001     RAJEEVI              ANALYST  2000.0  2016-11-06  2000.0   \n",
       "3    2000        BALU  PRINCIPAL DATA ENGG  4000.0  2016-11-07  4000.0   \n",
       "4    4000      RAJEEV              MANAGER  1000.0  2016-11-08  5000.0   \n",
       "5    1000  VIJAY KOTU           SR MANAGER   200.0  2016-11-09  6000.0   \n",
       "6    7012       PADMA            DEVELOPER  3000.0  2016-11-10  2600.0   \n",
       "7    8012       HASIN            DEVELOPER  3000.0  2016-11-11  2000.0   \n",
       "8    5345      GIRISH            DEVELOPER  3000.0  2016-11-12  2000.0   \n",
       "9    3000       VIVEK              MANAGER  4000.0  2016-11-13  3000.0   \n",
       "10   6508      ARCHIT            DEVELOPER  3000.0  2016-11-14  2300.0   \n",
       "11   7023       JOANE              ANALYST  2000.0  2016-11-15  2100.0   \n",
       "12   8012       SURI              DESIGNER  4000.0  2016-11-16  2100.0   \n",
       "13    200       CHRIS                  CFO     NaN        None  8000.0   \n",
       "\n",
       "      COMM  DEPTNO  \n",
       "0    100.0    2501  \n",
       "1     70.0    2501  \n",
       "2    100.0    2501  \n",
       "3    200.0    2501  \n",
       "4     76.0    2500  \n",
       "5    200.0    2500  \n",
       "6     50.0    2502  \n",
       "7     80.0    2502  \n",
       "8     56.0    2502  \n",
       "9    200.0    2502  \n",
       "10    80.0    2502  \n",
       "11    68.0    2501  \n",
       "12    80.0    2502  \n",
       "13  1000.0    2500  "
      ]
     },
     "execution_count": 18,
     "metadata": {},
     "output_type": "execute_result"
    }
   ],
   "source": [
    "df"
   ]
  },
  {
   "cell_type": "code",
   "execution_count": null,
   "id": "904ba9e2",
   "metadata": {},
   "outputs": [],
   "source": []
  }
 ],
 "metadata": {
  "kernelspec": {
   "display_name": "Python 3 (ipykernel)",
   "language": "python",
   "name": "python3"
  },
  "language_info": {
   "codemirror_mode": {
    "name": "ipython",
    "version": 3
   },
   "file_extension": ".py",
   "mimetype": "text/x-python",
   "name": "python",
   "nbconvert_exporter": "python",
   "pygments_lexer": "ipython3",
   "version": "3.8.16"
  }
 },
 "nbformat": 4,
 "nbformat_minor": 5
}
